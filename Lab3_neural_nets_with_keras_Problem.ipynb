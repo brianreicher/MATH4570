{
 "cells": [
  {
   "cell_type": "markdown",
   "metadata": {},
   "source": [
    "#### Hand in: all details of your computations (the design of your neural network, the information table of the neural network. Find the best learning rate by the . )\n",
    "\n",
    "\n",
    "# Problem   Train a deep neural network on the MRI slices dataset. "
   ]
  },
  {
   "cell_type": "markdown",
   "metadata": {},
   "source": [
    " \n",
    "The dementia level for the Oasis 1 MRI dataset is based on a patient assessment. As a result, it is not clear whether the levels of 0, .5, 1 and 2 should actually be understood as meaningfully numeric, or if they in fact are categorical labels. \n",
    "\n",
    "To load all of the files into an array we need to be able to search through the directory. Luckily, this is easy to do using the labels file, since each file name is stored there. We just need to loop through the __Filename__ column in the `labels` dataset and load them into an array one by one. There are 702 files in total. \n",
    "\n",
    "With the array there are two ways we can load them in: First, we can load them into a $609\\times 176 \\times 176$ array, which is the best option if we care about the 2D structure. However for algorithms like linear regression that can not see the 2D structure, we may want to flatten the images to a $609\\times 30976$ array (note that $30976 = 176 \\times 176$). Its easy enough two switch back and forth between the two array structures later. We will start with the flattened array. \n",
    "\n",
    "__Note:__ It is very import that we perform the train test split _before_ we expand the dataset through down sampling. If not, we are effectively training on the test data. \n",
    " \n",
    "Try searching for the optimal learning rate by using the approach presented in this chapter (i.e., by growing the learning rate exponentially, plotting the loss, and finding the point where the loss shoots up). "
   ]
  },
  {
   "cell_type": "code",
   "execution_count": 1,
   "metadata": {},
   "outputs": [],
   "source": [
    "import pandas as pd\n",
    "import numpy as np\n",
    "from matplotlib import pyplot as plt\n",
    "import matplotlib"
   ]
  },
  {
   "cell_type": "code",
   "execution_count": 2,
   "metadata": {},
   "outputs": [
    {
     "data": {
      "text/html": [
       "<div>\n",
       "<style scoped>\n",
       "    .dataframe tbody tr th:only-of-type {\n",
       "        vertical-align: middle;\n",
       "    }\n",
       "\n",
       "    .dataframe tbody tr th {\n",
       "        vertical-align: top;\n",
       "    }\n",
       "\n",
       "    .dataframe thead th {\n",
       "        text-align: right;\n",
       "    }\n",
       "</style>\n",
       "<table border=\"1\" class=\"dataframe\">\n",
       "  <thead>\n",
       "    <tr style=\"text-align: right;\">\n",
       "      <th></th>\n",
       "      <th>Unnamed: 0</th>\n",
       "      <th>Filename</th>\n",
       "      <th>ID</th>\n",
       "      <th>M/F</th>\n",
       "      <th>Hand</th>\n",
       "      <th>Age</th>\n",
       "      <th>Educ</th>\n",
       "      <th>SES</th>\n",
       "      <th>MMSE</th>\n",
       "      <th>CDR</th>\n",
       "      <th>eTIV</th>\n",
       "      <th>nWBV</th>\n",
       "      <th>ASF</th>\n",
       "      <th>Delay</th>\n",
       "      <th>Slice</th>\n",
       "    </tr>\n",
       "  </thead>\n",
       "  <tbody>\n",
       "    <tr>\n",
       "      <th>0</th>\n",
       "      <td>0</td>\n",
       "      <td>OAS1_0001_MR1_55.png</td>\n",
       "      <td>OAS1_0001_MR1</td>\n",
       "      <td>F</td>\n",
       "      <td>R</td>\n",
       "      <td>74</td>\n",
       "      <td>2</td>\n",
       "      <td>3.0</td>\n",
       "      <td>29</td>\n",
       "      <td>0.0</td>\n",
       "      <td>1344</td>\n",
       "      <td>0.743</td>\n",
       "      <td>1.306</td>\n",
       "      <td>NaN</td>\n",
       "      <td>55</td>\n",
       "    </tr>\n",
       "    <tr>\n",
       "      <th>1</th>\n",
       "      <td>1</td>\n",
       "      <td>OAS1_0001_MR1_120.png</td>\n",
       "      <td>OAS1_0001_MR1</td>\n",
       "      <td>F</td>\n",
       "      <td>R</td>\n",
       "      <td>74</td>\n",
       "      <td>2</td>\n",
       "      <td>3.0</td>\n",
       "      <td>29</td>\n",
       "      <td>0.0</td>\n",
       "      <td>1344</td>\n",
       "      <td>0.743</td>\n",
       "      <td>1.306</td>\n",
       "      <td>NaN</td>\n",
       "      <td>120</td>\n",
       "    </tr>\n",
       "    <tr>\n",
       "      <th>2</th>\n",
       "      <td>2</td>\n",
       "      <td>OAS1_0001_MR1_180.png</td>\n",
       "      <td>OAS1_0001_MR1</td>\n",
       "      <td>F</td>\n",
       "      <td>R</td>\n",
       "      <td>74</td>\n",
       "      <td>2</td>\n",
       "      <td>3.0</td>\n",
       "      <td>29</td>\n",
       "      <td>0.0</td>\n",
       "      <td>1344</td>\n",
       "      <td>0.743</td>\n",
       "      <td>1.306</td>\n",
       "      <td>NaN</td>\n",
       "      <td>180</td>\n",
       "    </tr>\n",
       "    <tr>\n",
       "      <th>3</th>\n",
       "      <td>3</td>\n",
       "      <td>OAS1_0002_MR1_55.png</td>\n",
       "      <td>OAS1_0002_MR1</td>\n",
       "      <td>F</td>\n",
       "      <td>R</td>\n",
       "      <td>55</td>\n",
       "      <td>4</td>\n",
       "      <td>1.0</td>\n",
       "      <td>29</td>\n",
       "      <td>0.0</td>\n",
       "      <td>1147</td>\n",
       "      <td>0.810</td>\n",
       "      <td>1.531</td>\n",
       "      <td>NaN</td>\n",
       "      <td>55</td>\n",
       "    </tr>\n",
       "    <tr>\n",
       "      <th>4</th>\n",
       "      <td>4</td>\n",
       "      <td>OAS1_0002_MR1_120.png</td>\n",
       "      <td>OAS1_0002_MR1</td>\n",
       "      <td>F</td>\n",
       "      <td>R</td>\n",
       "      <td>55</td>\n",
       "      <td>4</td>\n",
       "      <td>1.0</td>\n",
       "      <td>29</td>\n",
       "      <td>0.0</td>\n",
       "      <td>1147</td>\n",
       "      <td>0.810</td>\n",
       "      <td>1.531</td>\n",
       "      <td>NaN</td>\n",
       "      <td>120</td>\n",
       "    </tr>\n",
       "    <tr>\n",
       "      <th>...</th>\n",
       "      <td>...</td>\n",
       "      <td>...</td>\n",
       "      <td>...</td>\n",
       "      <td>...</td>\n",
       "      <td>...</td>\n",
       "      <td>...</td>\n",
       "      <td>...</td>\n",
       "      <td>...</td>\n",
       "      <td>...</td>\n",
       "      <td>...</td>\n",
       "      <td>...</td>\n",
       "      <td>...</td>\n",
       "      <td>...</td>\n",
       "      <td>...</td>\n",
       "      <td>...</td>\n",
       "    </tr>\n",
       "    <tr>\n",
       "      <th>604</th>\n",
       "      <td>604</td>\n",
       "      <td>OAS1_0449_MR1_120.png</td>\n",
       "      <td>OAS1_0449_MR1</td>\n",
       "      <td>F</td>\n",
       "      <td>R</td>\n",
       "      <td>71</td>\n",
       "      <td>3</td>\n",
       "      <td>4.0</td>\n",
       "      <td>29</td>\n",
       "      <td>0.0</td>\n",
       "      <td>1264</td>\n",
       "      <td>0.818</td>\n",
       "      <td>1.388</td>\n",
       "      <td>NaN</td>\n",
       "      <td>120</td>\n",
       "    </tr>\n",
       "    <tr>\n",
       "      <th>605</th>\n",
       "      <td>605</td>\n",
       "      <td>OAS1_0449_MR1_180.png</td>\n",
       "      <td>OAS1_0449_MR1</td>\n",
       "      <td>F</td>\n",
       "      <td>R</td>\n",
       "      <td>71</td>\n",
       "      <td>3</td>\n",
       "      <td>4.0</td>\n",
       "      <td>29</td>\n",
       "      <td>0.0</td>\n",
       "      <td>1264</td>\n",
       "      <td>0.818</td>\n",
       "      <td>1.388</td>\n",
       "      <td>NaN</td>\n",
       "      <td>180</td>\n",
       "    </tr>\n",
       "    <tr>\n",
       "      <th>606</th>\n",
       "      <td>606</td>\n",
       "      <td>OAS1_0456_MR1_55.png</td>\n",
       "      <td>OAS1_0456_MR1</td>\n",
       "      <td>M</td>\n",
       "      <td>R</td>\n",
       "      <td>61</td>\n",
       "      <td>5</td>\n",
       "      <td>2.0</td>\n",
       "      <td>30</td>\n",
       "      <td>0.0</td>\n",
       "      <td>1637</td>\n",
       "      <td>0.780</td>\n",
       "      <td>1.072</td>\n",
       "      <td>NaN</td>\n",
       "      <td>55</td>\n",
       "    </tr>\n",
       "    <tr>\n",
       "      <th>607</th>\n",
       "      <td>607</td>\n",
       "      <td>OAS1_0456_MR1_120.png</td>\n",
       "      <td>OAS1_0456_MR1</td>\n",
       "      <td>M</td>\n",
       "      <td>R</td>\n",
       "      <td>61</td>\n",
       "      <td>5</td>\n",
       "      <td>2.0</td>\n",
       "      <td>30</td>\n",
       "      <td>0.0</td>\n",
       "      <td>1637</td>\n",
       "      <td>0.780</td>\n",
       "      <td>1.072</td>\n",
       "      <td>NaN</td>\n",
       "      <td>120</td>\n",
       "    </tr>\n",
       "    <tr>\n",
       "      <th>608</th>\n",
       "      <td>608</td>\n",
       "      <td>OAS1_0456_MR1_180.png</td>\n",
       "      <td>OAS1_0456_MR1</td>\n",
       "      <td>M</td>\n",
       "      <td>R</td>\n",
       "      <td>61</td>\n",
       "      <td>5</td>\n",
       "      <td>2.0</td>\n",
       "      <td>30</td>\n",
       "      <td>0.0</td>\n",
       "      <td>1637</td>\n",
       "      <td>0.780</td>\n",
       "      <td>1.072</td>\n",
       "      <td>NaN</td>\n",
       "      <td>180</td>\n",
       "    </tr>\n",
       "  </tbody>\n",
       "</table>\n",
       "<p>609 rows × 15 columns</p>\n",
       "</div>"
      ],
      "text/plain": [
       "     Unnamed: 0               Filename             ID M/F Hand  Age  Educ  \\\n",
       "0             0   OAS1_0001_MR1_55.png  OAS1_0001_MR1   F    R   74     2   \n",
       "1             1  OAS1_0001_MR1_120.png  OAS1_0001_MR1   F    R   74     2   \n",
       "2             2  OAS1_0001_MR1_180.png  OAS1_0001_MR1   F    R   74     2   \n",
       "3             3   OAS1_0002_MR1_55.png  OAS1_0002_MR1   F    R   55     4   \n",
       "4             4  OAS1_0002_MR1_120.png  OAS1_0002_MR1   F    R   55     4   \n",
       "..          ...                    ...            ...  ..  ...  ...   ...   \n",
       "604         604  OAS1_0449_MR1_120.png  OAS1_0449_MR1   F    R   71     3   \n",
       "605         605  OAS1_0449_MR1_180.png  OAS1_0449_MR1   F    R   71     3   \n",
       "606         606   OAS1_0456_MR1_55.png  OAS1_0456_MR1   M    R   61     5   \n",
       "607         607  OAS1_0456_MR1_120.png  OAS1_0456_MR1   M    R   61     5   \n",
       "608         608  OAS1_0456_MR1_180.png  OAS1_0456_MR1   M    R   61     5   \n",
       "\n",
       "     SES  MMSE  CDR  eTIV   nWBV    ASF  Delay  Slice  \n",
       "0    3.0    29  0.0  1344  0.743  1.306    NaN     55  \n",
       "1    3.0    29  0.0  1344  0.743  1.306    NaN    120  \n",
       "2    3.0    29  0.0  1344  0.743  1.306    NaN    180  \n",
       "3    1.0    29  0.0  1147  0.810  1.531    NaN     55  \n",
       "4    1.0    29  0.0  1147  0.810  1.531    NaN    120  \n",
       "..   ...   ...  ...   ...    ...    ...    ...    ...  \n",
       "604  4.0    29  0.0  1264  0.818  1.388    NaN    120  \n",
       "605  4.0    29  0.0  1264  0.818  1.388    NaN    180  \n",
       "606  2.0    30  0.0  1637  0.780  1.072    NaN     55  \n",
       "607  2.0    30  0.0  1637  0.780  1.072    NaN    120  \n",
       "608  2.0    30  0.0  1637  0.780  1.072    NaN    180  \n",
       "\n",
       "[609 rows x 15 columns]"
      ]
     },
     "metadata": {},
     "output_type": "display_data"
    }
   ],
   "source": [
    "labels = pd.read_csv('labels.csv')\n",
    "# Using directory \n",
    "display(labels)\n",
    "y = labels.CDR\n",
    "y=(y*2).astype(int)"
   ]
  },
  {
   "cell_type": "code",
   "execution_count": 3,
   "metadata": {},
   "outputs": [],
   "source": [
    "data = np.zeros([609, 30976])\n",
    "\n",
    "for n, file_name in enumerate(labels.Filename):\n",
    "    data[n,:] = np.mean(matplotlib.image.imread(file_name),axis=2).reshape(-1)\n",
    "# Now we can use the file name to read the data"
   ]
  },
  {
   "cell_type": "code",
   "execution_count": 4,
   "metadata": {},
   "outputs": [
    {
     "name": "stdout",
     "output_type": "stream",
     "text": [
      "(487,) (122,)\n"
     ]
    }
   ],
   "source": [
    "from sklearn.model_selection import train_test_split\n",
    "\n",
    "X_train, X_valid, y_train, y_valid = train_test_split(data, y, test_size=0.2, random_state=0)\n",
    "print(y_train.shape, y_valid.shape)"
   ]
  },
  {
   "cell_type": "code",
   "execution_count": 5,
   "metadata": {},
   "outputs": [
    {
     "name": "stdout",
     "output_type": "stream",
     "text": [
      "(609, 30976)\n",
      "(487, 30976) (487,)\n",
      "(122, 30976) (122,)\n"
     ]
    }
   ],
   "source": [
    "print(data.shape)\n",
    "print(X_train.shape, y_train.shape)\n",
    "print(X_valid.shape, y_valid.shape)"
   ]
  },
  {
   "cell_type": "code",
   "execution_count": 6,
   "metadata": {},
   "outputs": [
    {
     "data": {
      "text/plain": [
       "<matplotlib.image.AxesImage at 0x7fd23b7547c0>"
      ]
     },
     "execution_count": 6,
     "metadata": {},
     "output_type": "execute_result"
    },
    {
     "data": {
      "image/png": "[encoded data removed]",
      "text/plain": [
       "<Figure size 432x288 with 1 Axes>"
      ]
     },
     "metadata": {
      "needs_background": "light"
     },
     "output_type": "display_data"
    }
   ],
   "source": [
    "plt.imshow(X_train[1].reshape(176,176))"
   ]
  },
  {
   "cell_type": "code",
   "execution_count": 7,
   "metadata": {},
   "outputs": [
    {
     "data": {
      "text/plain": [
       "0.7598039507865906"
      ]
     },
     "execution_count": 7,
     "metadata": {},
     "output_type": "execute_result"
    }
   ],
   "source": [
    "max(X_train[1]) \n",
    "#The value already be normalized\n",
    "#Normalize the data if the data is not normalized\n",
    "#X_valid, X_train = X_valid / 255., X_train / 255. "
   ]
  },
  {
   "cell_type": "code",
   "execution_count": 8,
   "metadata": {},
   "outputs": [],
   "source": [
    "import tensorflow as tf\n",
    "from tensorflow import keras"
   ]
  },
  {
   "cell_type": "code",
   "execution_count": 9,
   "metadata": {},
   "outputs": [
    {
     "data": {
      "text/plain": [
       "dtype('float64')"
      ]
     },
     "execution_count": 9,
     "metadata": {},
     "output_type": "execute_result"
    }
   ],
   "source": [
    "X_train.dtype"
   ]
  },
  {
   "cell_type": "code",
   "execution_count": 10,
   "metadata": {},
   "outputs": [
    {
     "name": "stderr",
     "output_type": "stream",
     "text": [
      "2021-11-23 12:01:33.369493: I tensorflow/core/platform/cpu_feature_guard.cc:151] This TensorFlow binary is optimized with oneAPI Deep Neural Network Library (oneDNN) to use the following CPU instructions in performance-critical operations:  AVX2 FMA\n",
      "To enable them in other operations, rebuild TensorFlow with the appropriate compiler flags.\n"
     ]
    }
   ],
   "source": [
    "model = keras.models.Sequential()\n",
    "model.add(keras.layers.Flatten(input_shape=[30976]))\n",
    "model.add(keras.layers.Dense(300, activation=\"relu\"))\n",
    "model.add(keras.layers.Dense(100, activation=\"relu\"))\n",
    "model.add(keras.layers.Dense(10, activation=\"softmax\"))"
   ]
  },
  {
   "cell_type": "code",
   "execution_count": 11,
   "metadata": {},
   "outputs": [],
   "source": [
    "keras.backend.clear_session()\n",
    "np.random.seed(42)\n",
    "tf.random.set_seed(42)"
   ]
  },
  {
   "cell_type": "code",
   "execution_count": 12,
   "metadata": {},
   "outputs": [
    {
     "data": {
      "text/plain": [
       "[<keras.layers.core.flatten.Flatten at 0x7fd2416ab430>,\n",
       " <keras.layers.core.dense.Dense at 0x7fd2416ab580>,\n",
       " <keras.layers.core.dense.Dense at 0x7fd2416ab610>,\n",
       " <keras.layers.core.dense.Dense at 0x7fd241696a60>]"
      ]
     },
     "execution_count": 12,
     "metadata": {},
     "output_type": "execute_result"
    }
   ],
   "source": [
    "model = keras.models.Sequential([\n",
    "    keras.layers.Flatten(input_shape=[30976]),\n",
    "    keras.layers.Dense(300, activation=\"relu\"),\n",
    "    keras.layers.Dense(100, activation=\"relu\"),\n",
    "    keras.layers.Dense(10, activation=\"softmax\")\n",
    "])\n",
    "model.layers"
   ]
  },
  {
   "cell_type": "code",
   "execution_count": 13,
   "metadata": {},
   "outputs": [
    {
     "data": {
      "text/plain": [
       "<bound method Model.summary of <keras.engine.sequential.Sequential object at 0x7fd241696e20>>"
      ]
     },
     "execution_count": 13,
     "metadata": {},
     "output_type": "execute_result"
    }
   ],
   "source": [
    "model.summary"
   ]
  },
  {
   "cell_type": "code",
   "execution_count": 14,
   "metadata": {},
   "outputs": [
    {
     "data": {
      "text/plain": [
       "array([[ 0.00455858, -0.00163419, -0.00407534, ..., -0.00514954,\n",
       "         0.00718443, -0.01282596],\n",
       "       [ 0.00088711, -0.00578127, -0.01092213, ...,  0.00112254,\n",
       "        -0.00514531, -0.00775465],\n",
       "       [-0.01152257, -0.01284935,  0.01322242, ..., -0.00789026,\n",
       "         0.01325811, -0.01364933],\n",
       "       ...,\n",
       "       [-0.01133312,  0.00190817,  0.00550806, ..., -0.01103346,\n",
       "        -0.00647212, -0.0041499 ],\n",
       "       [ 0.00507124,  0.01332383, -0.01285022, ...,  0.00453375,\n",
       "        -0.0048419 ,  0.01331121],\n",
       "       [ 0.0039242 , -0.01201581,  0.00334721, ...,  0.00260448,\n",
       "        -0.00642282, -0.00854408]], dtype=float32)"
      ]
     },
     "execution_count": 14,
     "metadata": {},
     "output_type": "execute_result"
    }
   ],
   "source": [
    "hidden1 = model.layers[1]\n",
    "weights, biases = hidden1.get_weights()\n",
    "weights"
   ]
  },
  {
   "cell_type": "code",
   "execution_count": 15,
   "metadata": {},
   "outputs": [
    {
     "name": "stdout",
     "output_type": "stream",
     "text": [
      "(30976, 300)\n",
      "(300,)\n"
     ]
    },
    {
     "data": {
      "text/plain": [
       "array([0., 0., 0., 0., 0., 0., 0., 0., 0., 0., 0., 0., 0., 0., 0., 0., 0.,\n",
       "       0., 0., 0., 0., 0., 0., 0., 0., 0., 0., 0., 0., 0., 0., 0., 0., 0.,\n",
       "       0., 0., 0., 0., 0., 0., 0., 0., 0., 0., 0., 0., 0., 0., 0., 0., 0.,\n",
       "       0., 0., 0., 0., 0., 0., 0., 0., 0., 0., 0., 0., 0., 0., 0., 0., 0.,\n",
       "       0., 0., 0., 0., 0., 0., 0., 0., 0., 0., 0., 0., 0., 0., 0., 0., 0.,\n",
       "       0., 0., 0., 0., 0., 0., 0., 0., 0., 0., 0., 0., 0., 0., 0., 0., 0.,\n",
       "       0., 0., 0., 0., 0., 0., 0., 0., 0., 0., 0., 0., 0., 0., 0., 0., 0.,\n",
       "       0., 0., 0., 0., 0., 0., 0., 0., 0., 0., 0., 0., 0., 0., 0., 0., 0.,\n",
       "       0., 0., 0., 0., 0., 0., 0., 0., 0., 0., 0., 0., 0., 0., 0., 0., 0.,\n",
       "       0., 0., 0., 0., 0., 0., 0., 0., 0., 0., 0., 0., 0., 0., 0., 0., 0.,\n",
       "       0., 0., 0., 0., 0., 0., 0., 0., 0., 0., 0., 0., 0., 0., 0., 0., 0.,\n",
       "       0., 0., 0., 0., 0., 0., 0., 0., 0., 0., 0., 0., 0., 0., 0., 0., 0.,\n",
       "       0., 0., 0., 0., 0., 0., 0., 0., 0., 0., 0., 0., 0., 0., 0., 0., 0.,\n",
       "       0., 0., 0., 0., 0., 0., 0., 0., 0., 0., 0., 0., 0., 0., 0., 0., 0.,\n",
       "       0., 0., 0., 0., 0., 0., 0., 0., 0., 0., 0., 0., 0., 0., 0., 0., 0.,\n",
       "       0., 0., 0., 0., 0., 0., 0., 0., 0., 0., 0., 0., 0., 0., 0., 0., 0.,\n",
       "       0., 0., 0., 0., 0., 0., 0., 0., 0., 0., 0., 0., 0., 0., 0., 0., 0.,\n",
       "       0., 0., 0., 0., 0., 0., 0., 0., 0., 0., 0.], dtype=float32)"
      ]
     },
     "execution_count": 15,
     "metadata": {},
     "output_type": "execute_result"
    }
   ],
   "source": [
    "print(weights.shape)\n",
    "print(biases.shape)\n",
    "biases"
   ]
  },
  {
   "cell_type": "code",
   "execution_count": 16,
   "metadata": {},
   "outputs": [
    {
     "name": "stdout",
     "output_type": "stream",
     "text": [
      "Epoch 1/30\n",
      "16/16 [==============================] - 1s 46ms/step - loss: 1.5970 - accuracy: 0.4743 - val_loss: 1.1633 - val_accuracy: 0.2869\n",
      "Epoch 2/30\n",
      "16/16 [==============================] - 1s 37ms/step - loss: 1.0454 - accuracy: 0.4928 - val_loss: 1.4314 - val_accuracy: 0.1639\n",
      "Epoch 3/30\n",
      "16/16 [==============================] - 1s 38ms/step - loss: 1.0818 - accuracy: 0.5359 - val_loss: 1.2712 - val_accuracy: 0.2869\n",
      "Epoch 4/30\n",
      "16/16 [==============================] - 1s 38ms/step - loss: 0.9998 - accuracy: 0.5811 - val_loss: 1.5127 - val_accuracy: 0.2869\n",
      "Epoch 5/30\n",
      "16/16 [==============================] - 1s 38ms/step - loss: 1.0155 - accuracy: 0.5647 - val_loss: 1.2116 - val_accuracy: 0.5410\n",
      "Epoch 6/30\n",
      "16/16 [==============================] - 1s 38ms/step - loss: 0.9962 - accuracy: 0.5647 - val_loss: 1.2093 - val_accuracy: 0.2869\n",
      "Epoch 7/30\n",
      "16/16 [==============================] - 1s 38ms/step - loss: 1.0139 - accuracy: 0.5380 - val_loss: 1.1397 - val_accuracy: 0.5410\n",
      "Epoch 8/30\n",
      "16/16 [==============================] - 1s 39ms/step - loss: 1.0184 - accuracy: 0.5544 - val_loss: 1.1048 - val_accuracy: 0.5410\n",
      "Epoch 9/30\n",
      "16/16 [==============================] - 1s 38ms/step - loss: 0.9977 - accuracy: 0.5791 - val_loss: 1.1357 - val_accuracy: 0.5410\n",
      "Epoch 10/30\n",
      "16/16 [==============================] - 1s 41ms/step - loss: 0.9923 - accuracy: 0.5791 - val_loss: 1.0741 - val_accuracy: 0.5410\n",
      "Epoch 11/30\n",
      "16/16 [==============================] - 1s 43ms/step - loss: 0.9988 - accuracy: 0.5791 - val_loss: 1.0528 - val_accuracy: 0.5410\n",
      "Epoch 12/30\n",
      "16/16 [==============================] - 1s 40ms/step - loss: 0.9906 - accuracy: 0.5791 - val_loss: 1.0598 - val_accuracy: 0.5410\n",
      "Epoch 13/30\n",
      "16/16 [==============================] - 1s 43ms/step - loss: 0.9894 - accuracy: 0.5791 - val_loss: 1.0533 - val_accuracy: 0.5410\n",
      "Epoch 14/30\n",
      "16/16 [==============================] - 1s 40ms/step - loss: 0.9887 - accuracy: 0.5791 - val_loss: 1.0899 - val_accuracy: 0.5410\n",
      "Epoch 15/30\n",
      "16/16 [==============================] - 1s 42ms/step - loss: 0.9927 - accuracy: 0.5791 - val_loss: 1.0343 - val_accuracy: 0.5410\n",
      "Epoch 16/30\n",
      "16/16 [==============================] - 1s 42ms/step - loss: 0.9838 - accuracy: 0.5544 - val_loss: 1.0638 - val_accuracy: 0.5410\n",
      "Epoch 17/30\n",
      "16/16 [==============================] - 1s 43ms/step - loss: 0.9849 - accuracy: 0.5791 - val_loss: 1.0682 - val_accuracy: 0.5410\n",
      "Epoch 18/30\n",
      "16/16 [==============================] - 1s 39ms/step - loss: 0.9873 - accuracy: 0.5791 - val_loss: 1.1143 - val_accuracy: 0.2869\n",
      "Epoch 19/30\n",
      "16/16 [==============================] - 1s 40ms/step - loss: 0.9939 - accuracy: 0.5708 - val_loss: 1.1895 - val_accuracy: 0.2869\n",
      "Epoch 20/30\n",
      "16/16 [==============================] - 1s 40ms/step - loss: 0.9966 - accuracy: 0.5585 - val_loss: 1.0473 - val_accuracy: 0.5410\n",
      "Epoch 21/30\n",
      "16/16 [==============================] - 1s 44ms/step - loss: 0.9765 - accuracy: 0.5791 - val_loss: 1.0861 - val_accuracy: 0.5410\n",
      "Epoch 22/30\n",
      "16/16 [==============================] - 1s 39ms/step - loss: 0.9860 - accuracy: 0.5791 - val_loss: 1.0604 - val_accuracy: 0.5410\n",
      "Epoch 23/30\n",
      "16/16 [==============================] - 1s 39ms/step - loss: 0.9838 - accuracy: 0.5791 - val_loss: 1.1428 - val_accuracy: 0.5410\n",
      "Epoch 24/30\n",
      "16/16 [==============================] - 1s 44ms/step - loss: 0.9873 - accuracy: 0.5791 - val_loss: 1.0987 - val_accuracy: 0.5410\n",
      "Epoch 25/30\n",
      "16/16 [==============================] - 1s 42ms/step - loss: 0.9906 - accuracy: 0.5791 - val_loss: 1.1746 - val_accuracy: 0.5410\n",
      "Epoch 26/30\n",
      "16/16 [==============================] - 1s 43ms/step - loss: 0.9925 - accuracy: 0.5791 - val_loss: 1.0798 - val_accuracy: 0.5410\n",
      "Epoch 27/30\n",
      "16/16 [==============================] - 1s 44ms/step - loss: 0.9810 - accuracy: 0.5791 - val_loss: 1.0817 - val_accuracy: 0.5410\n",
      "Epoch 28/30\n",
      "16/16 [==============================] - 1s 40ms/step - loss: 0.9840 - accuracy: 0.5483 - val_loss: 1.0373 - val_accuracy: 0.5410\n",
      "Epoch 29/30\n",
      "16/16 [==============================] - 1s 39ms/step - loss: 0.9842 - accuracy: 0.5791 - val_loss: 1.0739 - val_accuracy: 0.5410\n",
      "Epoch 30/30\n",
      "16/16 [==============================] - 1s 39ms/step - loss: 0.9869 - accuracy: 0.5791 - val_loss: 1.1201 - val_accuracy: 0.5410\n"
     ]
    }
   ],
   "source": [
    "model.compile(loss=\"sparse_categorical_crossentropy\",\n",
    "              optimizer=\"sgd\",\n",
    "              metrics=[\"accuracy\"])\n",
    "#Decided to go with Stoichastic Gradient Descent\n",
    "historysgd = model.fit(X_train, y_train, epochs=30,\n",
    "                    validation_data=(X_valid, y_valid))"
   ]
  },
  {
   "cell_type": "markdown",
   "metadata": {},
   "source": [
    "# Problem 2:\n",
    "\n",
    "###  Try the same neural network for the down sampled Oasis 1 dataset."
   ]
  },
  {
   "cell_type": "code",
   "execution_count": 55,
   "metadata": {},
   "outputs": [],
   "source": [
    "DS = 16             # Downsample rate, must be a multiple of 30976.\n",
    "# You can also try DS=4\n",
    "\n",
    "N_train = y_train.shape[0]  # The length of the training data\n",
    "y_train = np.array(y_train)\n",
    "\n",
    "if 30976/DS % 1 > 0:\n",
    "    print(\"Downsample rate is not a multiple of 30976\")\n",
    "    DS = 1\n",
    "    im_size = 30976\n",
    "else:\n",
    "    im_size = int(30976/DS)\n",
    "\n",
    "\n",
    "data = np.zeros([609, im_size])\n",
    "\n",
    "for i, file_name in enumerate(labels.Filename):\n",
    "    img = np.mean(matplotlib.image.imread(file_name),axis=2).reshape(-1)\n",
    "    data[i,:] = img[::DS]            # Downsample the image"
   ]
  },
  {
   "cell_type": "code",
   "execution_count": 56,
   "metadata": {},
   "outputs": [],
   "source": [
    "from sklearn.model_selection import train_test_split\n",
    "\n",
    "X_train1, X_test1, y_train1, y_test1 = train_test_split(data, y, test_size=0.2, random_state=0)"
   ]
  },
  {
   "cell_type": "code",
   "execution_count": 57,
   "metadata": {},
   "outputs": [
    {
     "name": "stdout",
     "output_type": "stream",
     "text": [
      "(609, 1936)\n",
      "(487, 1936) (487,)\n",
      "(122, 1936) (122,)\n"
     ]
    }
   ],
   "source": [
    "print(data.shape)\n",
    "print(X_train1.shape, y_train1.shape)\n",
    "print(X_test1.shape, y_test1.shape)"
   ]
  },
  {
   "cell_type": "code",
   "execution_count": 11,
   "metadata": {},
   "outputs": [
    {
     "data": {
      "text/plain": [
       "<matplotlib.image.AxesImage at 0x7fad48b70ac0>"
      ]
     },
     "execution_count": 11,
     "metadata": {},
     "output_type": "execute_result"
    },
    {
     "data": {
      "image/png": "[encoded data removed]",
      "text/plain": [
       "<Figure size 432x288 with 1 Axes>"
      ]
     },
     "metadata": {
      "needs_background": "light"
     },
     "output_type": "display_data"
    }
   ],
   "source": [
    "plt.imshow(X_train1[1].reshape(44,44))"
   ]
  },
  {
   "cell_type": "code",
   "execution_count": 49,
   "metadata": {},
   "outputs": [
    {
     "name": "stdout",
     "output_type": "stream",
     "text": [
      "[<keras.layers.core.flatten.Flatten object at 0x7fb3f04a5e20>, <keras.layers.core.dense.Dense object at 0x7fb3f04b1280>, <keras.layers.core.dense.Dense object at 0x7fb3f04b14f0>, <keras.layers.core.dense.Dense object at 0x7fb3f04b18e0>]\n",
      "<bound method Model.summary of <keras.engine.sequential.Sequential object at 0x7fb3f04a8f70>>\n"
     ]
    }
   ],
   "source": [
    "model1 = keras.models.Sequential()\n",
    "model1.add(keras.layers.Flatten(input_shape=[1936]))\n",
    "model1.add(keras.layers.Dense(300, activation=\"relu\"))\n",
    "model1.add(keras.layers.Dense(100, activation=\"relu\"))\n",
    "model1.add(keras.layers.Dense(10, activation=\"softmax\"))\n",
    "\n",
    "keras.backend.clear_session()\n",
    "np.random.seed(42)\n",
    "tf.random.set_seed(42)\n",
    "\n",
    "model1 = keras.models.Sequential([\n",
    "    keras.layers.Flatten(input_shape=[1936]),\n",
    "    keras.layers.Dense(300, activation=\"relu\"),\n",
    "    keras.layers.Dense(100, activation=\"relu\"),\n",
    "    keras.layers.Dense(10, activation=\"softmax\")\n",
    "])\n",
    "print(model1.layers)\n",
    "print(model1.summary)"
   ]
  },
  {
   "cell_type": "code",
   "execution_count": 50,
   "metadata": {},
   "outputs": [
    {
     "data": {
      "text/plain": [
       "array([[ 0.01704903, -0.00611184, -0.01524172, ..., -0.0192592 ,\n",
       "         0.02686964, -0.04796888],\n",
       "       [ 0.00331777, -0.02162187, -0.04084859, ...,  0.00419827,\n",
       "        -0.01924339, -0.02900225],\n",
       "       [-0.04309423, -0.04805638,  0.04945162, ..., -0.02950943,\n",
       "         0.04958511, -0.05104826],\n",
       "       ...,\n",
       "       [ 0.0123988 , -0.01498482, -0.04120352, ...,  0.02418825,\n",
       "         0.01021894,  0.01348232],\n",
       "       [ 0.00468966, -0.01223113, -0.0240629 , ...,  0.04875263,\n",
       "        -0.02289778,  0.02700316],\n",
       "       [-0.00498009,  0.03607713,  0.04675157, ...,  0.01949016,\n",
       "         0.02020126, -0.0209934 ]], dtype=float32)"
      ]
     },
     "execution_count": 50,
     "metadata": {},
     "output_type": "execute_result"
    }
   ],
   "source": [
    "hidden11 = model1.layers[1]\n",
    "weights1, biases1 = hidden11.get_weights()\n",
    "weights1"
   ]
  },
  {
   "cell_type": "code",
   "execution_count": 52,
   "metadata": {},
   "outputs": [
    {
     "name": "stdout",
     "output_type": "stream",
     "text": [
      "(1936, 300) (300,)\n"
     ]
    },
    {
     "data": {
      "text/plain": [
       "array([0., 0., 0., 0., 0., 0., 0., 0., 0., 0., 0., 0., 0., 0., 0., 0., 0.,\n",
       "       0., 0., 0., 0., 0., 0., 0., 0., 0., 0., 0., 0., 0., 0., 0., 0., 0.,\n",
       "       0., 0., 0., 0., 0., 0., 0., 0., 0., 0., 0., 0., 0., 0., 0., 0., 0.,\n",
       "       0., 0., 0., 0., 0., 0., 0., 0., 0., 0., 0., 0., 0., 0., 0., 0., 0.,\n",
       "       0., 0., 0., 0., 0., 0., 0., 0., 0., 0., 0., 0., 0., 0., 0., 0., 0.,\n",
       "       0., 0., 0., 0., 0., 0., 0., 0., 0., 0., 0., 0., 0., 0., 0., 0., 0.,\n",
       "       0., 0., 0., 0., 0., 0., 0., 0., 0., 0., 0., 0., 0., 0., 0., 0., 0.,\n",
       "       0., 0., 0., 0., 0., 0., 0., 0., 0., 0., 0., 0., 0., 0., 0., 0., 0.,\n",
       "       0., 0., 0., 0., 0., 0., 0., 0., 0., 0., 0., 0., 0., 0., 0., 0., 0.,\n",
       "       0., 0., 0., 0., 0., 0., 0., 0., 0., 0., 0., 0., 0., 0., 0., 0., 0.,\n",
       "       0., 0., 0., 0., 0., 0., 0., 0., 0., 0., 0., 0., 0., 0., 0., 0., 0.,\n",
       "       0., 0., 0., 0., 0., 0., 0., 0., 0., 0., 0., 0., 0., 0., 0., 0., 0.,\n",
       "       0., 0., 0., 0., 0., 0., 0., 0., 0., 0., 0., 0., 0., 0., 0., 0., 0.,\n",
       "       0., 0., 0., 0., 0., 0., 0., 0., 0., 0., 0., 0., 0., 0., 0., 0., 0.,\n",
       "       0., 0., 0., 0., 0., 0., 0., 0., 0., 0., 0., 0., 0., 0., 0., 0., 0.,\n",
       "       0., 0., 0., 0., 0., 0., 0., 0., 0., 0., 0., 0., 0., 0., 0., 0., 0.,\n",
       "       0., 0., 0., 0., 0., 0., 0., 0., 0., 0., 0., 0., 0., 0., 0., 0., 0.,\n",
       "       0., 0., 0., 0., 0., 0., 0., 0., 0., 0., 0.], dtype=float32)"
      ]
     },
     "execution_count": 52,
     "metadata": {},
     "output_type": "execute_result"
    }
   ],
   "source": [
    "print(weights1.shape,biases1.shape)\n",
    "biases1"
   ]
  },
  {
   "cell_type": "code",
   "execution_count": 61,
   "metadata": {},
   "outputs": [
    {
     "name": "stdout",
     "output_type": "stream",
     "text": [
      "Epoch 1/29\n",
      "16/16 [==============================] - 0s 11ms/step - loss: 0.9699 - accuracy: 0.5791 - val_loss: 1.0466 - val_accuracy: 0.5410\n",
      "Epoch 2/29\n",
      "16/16 [==============================] - 0s 5ms/step - loss: 0.9817 - accuracy: 0.5708 - val_loss: 1.0741 - val_accuracy: 0.5082\n",
      "Epoch 3/29\n",
      "16/16 [==============================] - 0s 4ms/step - loss: 0.9869 - accuracy: 0.5729 - val_loss: 1.0960 - val_accuracy: 0.5410\n",
      "Epoch 4/29\n",
      "16/16 [==============================] - 0s 4ms/step - loss: 0.9714 - accuracy: 0.5852 - val_loss: 1.2895 - val_accuracy: 0.2869\n",
      "Epoch 5/29\n",
      "16/16 [==============================] - 0s 5ms/step - loss: 0.9831 - accuracy: 0.5667 - val_loss: 1.0742 - val_accuracy: 0.5410\n",
      "Epoch 6/29\n",
      "16/16 [==============================] - 0s 6ms/step - loss: 0.9707 - accuracy: 0.5791 - val_loss: 1.1107 - val_accuracy: 0.3770\n",
      "Epoch 7/29\n",
      "16/16 [==============================] - 0s 6ms/step - loss: 0.9850 - accuracy: 0.5503 - val_loss: 1.0877 - val_accuracy: 0.5410\n",
      "Epoch 8/29\n",
      "16/16 [==============================] - 0s 5ms/step - loss: 0.9863 - accuracy: 0.5791 - val_loss: 1.0650 - val_accuracy: 0.5410\n",
      "Epoch 9/29\n",
      "16/16 [==============================] - 0s 6ms/step - loss: 0.9775 - accuracy: 0.5791 - val_loss: 1.0717 - val_accuracy: 0.5410\n",
      "Epoch 10/29\n",
      "16/16 [==============================] - 0s 5ms/step - loss: 0.9770 - accuracy: 0.5791 - val_loss: 1.0405 - val_accuracy: 0.5410\n",
      "Epoch 11/29\n",
      "16/16 [==============================] - 0s 5ms/step - loss: 0.9788 - accuracy: 0.5791 - val_loss: 1.0478 - val_accuracy: 0.5410\n",
      "Epoch 12/29\n",
      "16/16 [==============================] - 0s 5ms/step - loss: 0.9717 - accuracy: 0.5791 - val_loss: 1.0326 - val_accuracy: 0.5410\n",
      "Epoch 13/29\n",
      "16/16 [==============================] - 0s 6ms/step - loss: 0.9740 - accuracy: 0.5791 - val_loss: 1.0346 - val_accuracy: 0.5410\n",
      "Epoch 14/29\n",
      "16/16 [==============================] - 0s 5ms/step - loss: 0.9715 - accuracy: 0.5791 - val_loss: 1.0617 - val_accuracy: 0.5410\n",
      "Epoch 15/29\n",
      "16/16 [==============================] - 0s 5ms/step - loss: 0.9750 - accuracy: 0.5791 - val_loss: 1.0308 - val_accuracy: 0.5410\n",
      "Epoch 16/29\n",
      "16/16 [==============================] - 0s 6ms/step - loss: 0.9713 - accuracy: 0.5770 - val_loss: 1.0356 - val_accuracy: 0.5410\n",
      "Epoch 17/29\n",
      "16/16 [==============================] - 0s 5ms/step - loss: 0.9718 - accuracy: 0.5791 - val_loss: 1.0575 - val_accuracy: 0.5410\n",
      "Epoch 18/29\n",
      "16/16 [==============================] - 0s 6ms/step - loss: 0.9744 - accuracy: 0.5811 - val_loss: 1.0913 - val_accuracy: 0.2869\n",
      "Epoch 19/29\n",
      "16/16 [==============================] - 0s 5ms/step - loss: 0.9780 - accuracy: 0.5708 - val_loss: 1.1389 - val_accuracy: 0.2869\n",
      "Epoch 20/29\n",
      "16/16 [==============================] - 0s 5ms/step - loss: 0.9816 - accuracy: 0.5585 - val_loss: 1.0435 - val_accuracy: 0.5410\n",
      "Epoch 21/29\n",
      "16/16 [==============================] - 0s 6ms/step - loss: 0.9645 - accuracy: 0.5791 - val_loss: 1.0747 - val_accuracy: 0.5410\n",
      "Epoch 22/29\n",
      "16/16 [==============================] - 0s 5ms/step - loss: 0.9726 - accuracy: 0.5791 - val_loss: 1.0474 - val_accuracy: 0.5410\n",
      "Epoch 23/29\n",
      "16/16 [==============================] - 0s 5ms/step - loss: 0.9690 - accuracy: 0.5791 - val_loss: 1.1160 - val_accuracy: 0.5410\n",
      "Epoch 24/29\n",
      "16/16 [==============================] - 0s 5ms/step - loss: 0.9740 - accuracy: 0.5791 - val_loss: 1.0946 - val_accuracy: 0.5410\n",
      "Epoch 25/29\n",
      "16/16 [==============================] - 0s 5ms/step - loss: 0.9777 - accuracy: 0.5791 - val_loss: 1.1411 - val_accuracy: 0.5410\n",
      "Epoch 26/29\n",
      "16/16 [==============================] - 0s 6ms/step - loss: 0.9800 - accuracy: 0.5791 - val_loss: 1.0690 - val_accuracy: 0.5410\n",
      "Epoch 27/29\n",
      "16/16 [==============================] - 0s 5ms/step - loss: 0.9677 - accuracy: 0.5791 - val_loss: 1.0736 - val_accuracy: 0.5410\n",
      "Epoch 28/29\n",
      "16/16 [==============================] - 0s 5ms/step - loss: 0.9722 - accuracy: 0.5483 - val_loss: 1.0344 - val_accuracy: 0.5410\n",
      "Epoch 29/29\n",
      "16/16 [==============================] - 0s 5ms/step - loss: 0.9725 - accuracy: 0.5791 - val_loss: 1.0656 - val_accuracy: 0.5410\n"
     ]
    }
   ],
   "source": [
    "model1.compile(loss=\"sparse_categorical_crossentropy\",\n",
    "              optimizer=\"sgd\",\n",
    "              metrics=[\"accuracy\"])\n",
    "#Decided to go with Stoichastic Gradient Descent\n",
    "historysgd1 = model1.fit(X_train1, y_train1, epochs=29,\n",
    "                    validation_data=(X_test1, y_test1))"
   ]
  },
  {
   "cell_type": "code",
   "execution_count": null,
   "metadata": {},
   "outputs": [],
   "source": []
  }
 ],
 "metadata": {
  "kernelspec": {
   "display_name": "Python 3 (ipykernel)",
   "language": "python",
   "name": "python3"
  },
  "language_info": {
   "codemirror_mode": {
    "name": "ipython",
    "version": 3
   },
   "file_extension": ".py",
   "mimetype": "text/x-python",
   "name": "python",
   "nbconvert_exporter": "python",
   "pygments_lexer": "ipython3",
   "version": "3.9.1"
  },
  "nav_menu": {
   "height": "264px",
   "width": "369px"
  },
  "toc": {
   "navigate_menu": true,
   "number_sections": true,
   "sideBar": true,
   "threshold": 6,
   "toc_cell": false,
   "toc_section_display": "block",
   "toc_window_display": false
  }
 },
 "nbformat": 4,
 "nbformat_minor": 4
}
